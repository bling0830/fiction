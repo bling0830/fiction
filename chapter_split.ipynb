{
 "cells": [
  {
   "cell_type": "code",
   "execution_count": 1,
   "id": "bc063ca8",
   "metadata": {},
   "outputs": [],
   "source": [
    "from novel_prompt import CHAPTER_SPLIT_SYS, NOVEL_PART_PLANNING_SYS, NOVEL_CHAPTER_PLANNING_SYS\n",
    "import json\n",
    "from openai import OpenAI"
   ]
  },
  {
   "cell_type": "code",
   "execution_count": 2,
   "id": "09832cbf",
   "metadata": {},
   "outputs": [],
   "source": [
    "def call_kimi(messages):\n",
    "\n",
    "    client = OpenAI(\n",
    "        api_key=\"sk-8XckQddnn9LBMsAEHcXOx3wImckQ4EhpTAN8Z9AnQ5iWWZKc\", # 在这里将 MOONSHOT_API_KEY 替换为你从 Kimi 开放平台申请的 API Key\n",
    "        base_url=\"https://api.moonshot.cn/v1\",\n",
    "    )\n",
    "    \n",
    "    completion = client.chat.completions.create(\n",
    "        model = \"kimi-k2-0711-preview\",\n",
    "        messages = messages,\n",
    "        temperature = 0.6,\n",
    "        max_tokens = 8192\n",
    "    )\n",
    "    \n",
    "    # print(completion.choices[0].message.content)\n",
    "    return completion.choices[0].message.content"
   ]
  },
  {
   "cell_type": "code",
   "execution_count": 3,
   "id": "9a8ccba3",
   "metadata": {},
   "outputs": [],
   "source": [
    "novel_summary_path = \"novel_chapter_info.json\"\n",
    "output_path = \"novel_split_res.json\"\n",
    "with open(novel_summary_path, \"r\") as f, open(output_path, \"w\") as f_out:\n",
    "    novel_info = json.load(f)\n",
    "    input_str = \"\"\n",
    "    for item in novel_info:\n",
    "        input_str += item[\"title\"] + \"\\n\" + item[\"conclusion\"] + \"\\n\"\n",
    "    call_list = [{\"role\": \"system\", \"content\": CHAPTER_SPLIT_SYS}, {\"role\": \"user\", \"content\": input_str}]\n",
    "    res = call_kimi(call_list)\n",
    "    f_out.write(res)\n"
   ]
  },
  {
   "cell_type": "code",
   "execution_count": null,
   "id": "f9ebfe92",
   "metadata": {},
   "outputs": [],
   "source": [
    "# 后续planning生成\n",
    "split_res_path = \"novel_split_res.json\"\n",
    "output_path = \"arc_planning_res.json\"\n",
    "\n",
    "with open(split_res_path, \"r\") as f, open(output_path, \"w\") as f_out:\n",
    "    split_res = f.read()\n",
    "    call_list = [{\"role\": \"system\", \"content\": NOVEL_PART_PLANNING_SYS}, {\"role\": \"user\", \"content\": split_res}]\n",
    "    res = call_kimi(call_list)\n",
    "    f_out.write(res)"
   ]
  },
  {
   "cell_type": "code",
   "execution_count": 3,
   "id": "84e8cecd",
   "metadata": {},
   "outputs": [
    {
     "name": "stdout",
     "output_type": "stream",
     "text": [
      "{'title': '第231章 年度结算', 'content': '清晨的薄光轻轻穿透大熊湖周围的松林，为静谧的山间世界罩上一层淡淡的柔和光晕。\\n\\u3000\\u3000昨日还肆虐的暴风雪已悄然偃息，仿佛那声势浩大的冰雪盛宴只是一场匆匆过客。\\n\\u3000\\u3000清冷的空气中弥漫着一丝雪后特有的微甜香气，像是将天地的尘埃洗净后留下的清澈芬芳。\\n\\u3000\\u3000远处的山峦在浅淡的天空下显得纯净而悠远，积雪覆盖的峰顶宛如一幅画稿定格在淡青色的幕布前。\\n\\u3000\\u3000此刻，除去无人机的嗡鸣声，就只有微风轻拂松针的沙沙声，好似大自然轻声絮语。\\n\\u3000\\u3000林栋站在二楼别墅的落地窗前，目光穿过这片纯白世界。\\n\\u3000\\u3000这几天他们在这片雪原之中，所有复杂事务都被滤除，只余下纯净的休憩。\\n\\u3000\\u3000但林栋清楚，这只是短暂的安宁。\\n\\u3000\\u3000当暴风雪停下，路面初步清理可通行，便意味着他们必须离开这片与世隔绝的庇护所。\\n\\u3000\\u3000外面的世界，信息纷繁、风云诡谲，等待他们回去面对。\\n\\u3000\\u3000楼下客厅中，一阵轻柔的笑声与行李拉链的“咔嗒”声交织在一起。\\n\\u3000\\u3000林栋微微探身向下望，见艾莉和吉吉正在玄关忙活。\\n\\u3000\\u3000艾莉正将一只长方形礼盒放入行李箱中，吉吉则努力压紧箱盖——这是她们在沿路出发过来的小镇工匠处买来的滑雪纪念品：木雕雪板模型、精巧的微型滑雪人偶，以及一片浅色木头上刻出的大熊湖滑雪路线微缩景观。\\n\\u3000\\u3000一想到回到钢铁都市后还能透过这些小物，回忆起雪山的故事，便让她们脸上浮现满足的笑意。\\n\\u3000\\u3000苏雨晴在一旁打量着一枚水晶雪花吊坠，对着灯光轻轻晃动。\\n\\u3000\\u3000传说这吊坠是用湖区特产冰晶冷雕而成的独门手艺，但林栋并不太相信传说的真实性，他认为大概是普通饰品。\\n\\u3000\\u3000说不定还是世界小商品城进口过来的。\\n\\u3000\\u3000不过他并不想破坏苏雨晴的浪漫幻想，也就没有细究下去。\\n\\u3000\\u3000这时，门口传来有力的脚步声，卡露拉走进客厅。\\n\\u3000\\u3000“林总，车队已经安排妥当。”她对正在二楼的林栋抬头说道，“下山道路也已经清出单车道，随时可以出发，我会在前面指引。”\\n\\u3000\\u3000“好的，辛苦你了。”\\n\\u3000\\u3000林栋点头回应，转身下楼。\\n\\u3000\\u3000走到楼下，他便看到瑞贝卡端着一杯热奶茶走来。\\n\\u3000\\u3000“喝杯热奶茶再出发吧。”\\n\\u3000\\u3000她将杯子递给林栋。\\n\\u3000\\u3000“谢谢。”\\n\\u3000\\u3000林栋微笑接过，奶茶的甜香在口中融化。\\n\\u3000\\u3000“行李都收好了吗？”\\n\\u3000\\u3000丽娜坐在沙发上浏览平板，检查着这几天的开销记录与远程账户流转。\\n\\u3000\\u3000“差不多了。”艾莉轻拍行李箱，“这些木雕与人偶还真占地方。回去后摆在苏雨晴的别墅客厅里，一定很有风情！”\\n\\u3000\\u3000苏雨晴听到此处，笑着说道：“那真的是太好了。”\\n\\u3000\\u3000吉吉也喘着气笑道：“我还记得买这些时的情形，老工匠介绍每一件的来历和手工细节，好像把整座山的故事都刻进木头里了。”\\n\\u3000\\u3000“别光聊纪念品了，回去后还有不少事要处理呢。我们可没有永远的假期。”\\n\\u3000\\u3000伊琳娜收起手机，轻声提醒。\\n\\u3000\\u3000而一直没出现的苏珊，正蹲在门边调试微型信号放大器，用于下山途中与外界保持畅通联络。\\n\\u3000\\u3000林栋喝完奶茶放下杯子，对众人道：“既然准备好了，我们就出发吧。”\\n\\u3000\\u3000众人纷纷起身，披上外套和围巾，拎起行李。\\n\\u3000\\u3000卡露拉走在最前，打开门。\\n\\u3000\\u3000一股清冷的山风迎面而入，晨光略刺眼，积雪反射的光亮让人微微眯眼。\\n\\u3000\\u3000众人鱼贯而出，脚踩在柔软的积雪上发出清脆的“咯吱”声。\\n\\u3000\\u3000别墅门外，几辆悍马整齐列阵。\\n\\u3000\\u3000卡露拉已为队员分好小组，两名安保与她在首车探路，另一辆断后警戒。\\n\\u3000\\u3000外骨骼装甲隐藏在车后货厢中，随时可以穿戴装备。\\n\\u3000\\u3000林栋与瑞贝卡、苏雨晴、吉吉上了第二辆车。\\n\\u3000\\u3000第三辆车则载着艾莉、丽娜、伊琳娜和苏珊。\\n\\u3000\\u3000车内暖气舒适，和车外的纯白世界形成鲜明对比。\\n\\u3000\\u3000吉吉抱着相机坐在后排，欣赏着抓拍的美好回忆。\\n\\u3000\\u3000苏雨晴轻呼一口气，看着车窗外的雪山。\\n\\u3000\\u3000“真是不舍啊，就这样离开。希望以后有机会再来。”\\n\\u3000\\u3000“或许会吧。”瑞贝卡柔声道，“我们都清楚这只是短暂歇息，接下来还有许多挑战在等着我们。”\\n\\u3000\\u3000林栋没有多言，默默思考假期前的那封神秘加密邮件。\\n\\u3000\\u3000对方的加密方式远超常规，泰坦和苏珊的尝试无功而返。\\n\\u3000\\u3000敌人身份？\\n\\u3000\\u3000他尚不知，不敢轻易猜测是何等势力。\\n\\u3000\\u3000也许是高深的黑客组织，也许是某个拥有先进技术的隐秘财团，甚至有更不可言状的可能性。\\n\\u3000\\u3000但没有证据就不能轻下断语。\\n\\u3000\\u3000林栋不想引导团队产生无谓的恐慌或错误预判。\\n\\u3000\\u3000车队缓缓启动，卡露拉的声音通过车内通讯。\\n\\u3000\\u3000“前方50米有轻微雪坍，注意减速。”\\n\\u3000\\u3000司机放慢速度绕过障碍。\\n\\u3000\\u3000在另一辆车中，苏珊正通过平板与泰坦沟通。\\n\\u3000\\u3000她知道回去后要重新整合量子计算资源，对那封邮件加以破译尝试。\\n\\u3000\\u3000行驶约半小时后，积雪逐渐稀薄，远方可以看见公路除雪车的踪迹。\\n\\u3000\\u3000太阳逐渐升高，车速不断提升。\\n\\u3000\\u3000“再过十分钟，我们就能到高速公路入口。”\\n\\u3000\\u3000卡露拉提示。\\n\\u3000\\u3000艾莉在对讲中笑道：“上了高速就好办了，路况平稳。我等不及要回苏雨晴的别墅看看怎么布置这些纪念品了。”\\n\\u3000\\u3000“不如在客厅找个光线好的角落，把这些微型滑雪人偶摆成一个小小的雪景剧场。”苏雨晴回道。\\n\\u3000\\u3000丽娜点头附和。\\n\\u3000\\u3000“这种布置不错，能让我们在繁忙日程中偶尔忆起这段假期。”\\n\\u3000\\u3000车队终于驶入高速公路。\\n\\u3000\\u3000山峦渐远，城市轮廓在远方浮现。\\n\\u3000\\u3000按计划，他们将先去苏雨晴家稍事安顿，再分开各自去处理外界业务。\\n\\u3000\\u3000林栋通过意识呼唤系统面板，打算先看看2010的年度总结。\\n\\u3000\\u3000【宿主：林栋】\\n\\u3000\\u3000【当前余额：48亿美元】\\n\\u3000\\u3000【身体掌控度：92%】\\n\\u3000\\u3000【自由属性点：80】\\n\\u3000\\u3000【学习空间冷却结束，可再次进入】\\n\\u3000\\u3000【年度结算可开启】\\n\\u3000\\u3000“开始结算！”\\n\\u3000\\u3000【系统年度总结：过去一年中，宿主在金融、科技、能源、军事、情报等领域取得突破性成就，根据影响力评估（涉及基因优化技术普及前景、LHC成功运行、冷核聚变技术落地示范、外骨骼等军工产品领先全球、隐秘铲除巨型犯罪集团等），系统将给予巨量的奖励。】\\n\\u3000\\u3000林栋微微一笑，他知道自己这一年确实做了不少事情。\\n\\u3000\\u3000从金融积累，到科技创新，再到核能与国际势力博弈，都达到了里程碑意义。\\n\\u3000\\u3000【恭喜宿主，年度结算完成。根据您目前的影响力，共计获得属性点：500点！】\\n\\u3000\\u3000【自由属性点：580】\\n\\u3000\\u3000林栋心中一阵欣喜。\\n\\u3000\\u3000500点属性点意味着他可进一步优化自身身体与思维，变得更强更灵敏。\\n\\u3000\\u3000同时也可以再次兑换未来科技，升级马克战甲，为即将面对的神秘对手做准备。\\n\\u3000\\u3000在敌人身份尚不明朗的情况下，属性点就是稳妥应对的基石。\\n\\u3000\\u3000当林栋沉浸在未来的规划时，车前的雪景逐渐被都市的钢筋混凝土取代，公路两侧开始有车辆汇入。\\n\\u3000\\u3000路旁的广告牌、写字楼在日光下不断闪过。\\n\\u3000\\u3000时钟指向上午中段，正是城市如常运转的时刻。\\n\\u3000\\u3000“快到了吧？”苏雨晴问道。\\n\\u3000\\u3000“是的。”瑞贝卡回答，“再过二十分钟就能进入洛杉矶市区。”\\n\\u3000\\u3000-----------------------------\\n\\u3000\\u3000休息一段时间后写出来的感觉都不咋样，各位可以等下次限免看完再决定要不要订阅，我打算放飞自我了。（本段免费）', 'conclusion': '暴风雪后的清晨，林栋率队离开大熊湖庇护所；车队一上高速，他即完成系统年度结算，手握580自由属性点与48亿美元，为那封尚未破译的神秘加密邮件所预示的未知强敌做最后武装。', 'file': 'chapters/chapter_231.txt'}\n"
     ]
    }
   ],
   "source": [
    "# 分章节planning\n",
    "arc_res_path = \"arc_planning_res.json\"\n",
    "split_res_path = \"novel_split_res.json\"\n",
    "novel_summary_path = \"novel_chapter_info.json\"\n",
    "output_path = \"chapter_planning_res.json\"\n",
    "\n",
    "with open(arc_res_path, \"r\") as f, open(split_res_path, \"r\") as f_split, open(novel_summary_path, \"r\") as f_info, open(output_path, \"w\") as f_out:\n",
    "    arc_res = json.load(f)\n",
    "    curr_arc = arc_res[0]\n",
    "    part_name = curr_arc[\"part_name\"]\n",
    "    planning_summary = curr_arc[\"planning_summary\"]\n",
    "    estimated_chapters = curr_arc[\"estimated_chapters\"]\n",
    "\n",
    "    split_res = json.load(f_split)\n",
    "    prev_arc = split_res[-1]\n",
    "    novel_info = json.load(f_info)\n",
    "    chapter_range = novel_info[prev_arc[\"chapter\"][0]-1: -1]\n",
    "    # print(chapter_range[0])\n",
    "    chapter_list_ref_str = \"\"\n",
    "    for item in chapter_range:\n",
    "        chapter_list_ref_str += item[\"title\"] + \"\\n\" + item[\"conclusion\"] + \"\\n\"\n",
    "    input_str = f\"【参考章节列表 (Reference Chapters List)】\\n{chapter_list_ref_str}\\n【目标故事部规划 (Target Arc Plan)】\\npart_name: {part_name}\\nestimated_chapters: {estimated_chapters}\\nplanning_summary: {planning_summary}\"\n",
    "    call_list = [{\"role\": \"system\", \"content\": NOVEL_CHAPTER_PLANNING_SYS}, {\"role\": \"user\", \"content\": input_str}]\n",
    "    res = call_kimi(call_list)\n",
    "    f_out.write(res)"
   ]
  }
 ],
 "metadata": {
  "kernelspec": {
   "display_name": "base",
   "language": "python",
   "name": "python3"
  },
  "language_info": {
   "codemirror_mode": {
    "name": "ipython",
    "version": 3
   },
   "file_extension": ".py",
   "mimetype": "text/x-python",
   "name": "python",
   "nbconvert_exporter": "python",
   "pygments_lexer": "ipython3",
   "version": "3.9.13"
  }
 },
 "nbformat": 4,
 "nbformat_minor": 5
}
