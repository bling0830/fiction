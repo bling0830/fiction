{
 "cells": [
  {
   "cell_type": "code",
   "execution_count": null,
   "id": "bc063ca8",
   "metadata": {
    "vscode": {
     "languageId": "plaintext"
    }
   },
   "outputs": [],
   "source": [
    "C:\\Users\\59681\\OneDrive\\桌面\\novel_writer\\fiction\\summary"
   ]
  },
  {
   "cell_type": "code",
   "execution_count": null,
   "id": "9a8ccba3",
   "metadata": {
    "vscode": {
     "languageId": "plaintext"
    }
   },
   "outputs": [],
   "source": [
    "novel_summary_path = \"summary\""
   ]
  }
 ],
 "metadata": {
  "language_info": {
   "name": "python"
  }
 },
 "nbformat": 4,
 "nbformat_minor": 5
}
